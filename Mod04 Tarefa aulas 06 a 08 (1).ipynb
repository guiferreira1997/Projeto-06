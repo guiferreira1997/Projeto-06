{
 "cells": [
  {
   "cell_type": "markdown",
   "metadata": {},
   "source": [
    "# Tarefa 03\n",
    "\n",
    "- Leia os enunciados com atenção\n",
    "- Saiba que pode haver mais de uma resposta correta\n",
    "- Insira novas células de código sempre que achar necessário\n",
    "- Em caso de dúvidas, procure os Tutores\n",
    "- Divirta-se :)"
   ]
  },
  {
   "cell_type": "code",
   "execution_count": 1,
   "metadata": {},
   "outputs": [],
   "source": [
    "import pandas as pd\n",
    "import requests"
   ]
  },
  {
   "cell_type": "markdown",
   "metadata": {},
   "source": [
    "####  1) Lendo de APIs\n",
    "Vimos em aula como carregar dados públicos do governo através de um API (*Application Programming Interface*). No exemplo de aula, baixamos os dados de pedidos de verificação de limites (PVL) realizados por estados, e selecionamos apenas aqueles referentes ao estado de São Paulo.\n",
    "\n",
    "1. Repita os mesmos passos feitos em aula, mas selecione os PVLs realizados por municípios no estado do Rio de Janeiro.\n",
    "2. Quais são os três *status* das solicitações mais frequentes na base? Quais são suas frequências?\n",
    "3. Construa uma nova variável que contenha o ano do **status**. Observe que ```data_status``` vem como tipo *object* no **DataFrame**. Dica: você pode usar o método ```.str``` para transformar o tipo da variável em string, em seguida um método como [**slice()**](https://pandas.pydata.org/docs/reference/api/pandas.Series.str.slice.html) ou [**split()**](https://pandas.pydata.org/pandas-docs/stable/reference/api/pandas.Series.str.split.html).\n",
    "4. Indique a frequência de cada ano do campo construído no item (3)."
   ]
  },
  {
   "cell_type": "code",
   "execution_count": 2,
   "metadata": {},
   "outputs": [],
   "source": [
    "url = 'http://apidatalake.tesouro.gov.br/ords/sadipem/tt/pvl?uf=RJ&tipo_interessado=Município' #inserindo a url em uma variável\n",
    "r = requests.get(url)"
   ]
  },
  {
   "cell_type": "code",
   "execution_count": 3,
   "metadata": {},
   "outputs": [
    {
     "data": {
      "text/html": [
       "<div>\n",
       "<style scoped>\n",
       "    .dataframe tbody tr th:only-of-type {\n",
       "        vertical-align: middle;\n",
       "    }\n",
       "\n",
       "    .dataframe tbody tr th {\n",
       "        vertical-align: top;\n",
       "    }\n",
       "\n",
       "    .dataframe thead th {\n",
       "        text-align: right;\n",
       "    }\n",
       "</style>\n",
       "<table border=\"1\" class=\"dataframe\">\n",
       "  <thead>\n",
       "    <tr style=\"text-align: right;\">\n",
       "      <th></th>\n",
       "      <th>id_pleito</th>\n",
       "      <th>tipo_interessado</th>\n",
       "      <th>interessado</th>\n",
       "      <th>cod_ibge</th>\n",
       "      <th>uf</th>\n",
       "      <th>num_pvl</th>\n",
       "      <th>status</th>\n",
       "      <th>num_processo</th>\n",
       "      <th>data_protocolo</th>\n",
       "      <th>tipo_operacao</th>\n",
       "      <th>finalidade</th>\n",
       "      <th>tipo_credor</th>\n",
       "      <th>credor</th>\n",
       "      <th>moeda</th>\n",
       "      <th>valor</th>\n",
       "      <th>pvl_assoc_divida</th>\n",
       "      <th>pvl_contradado_credor</th>\n",
       "      <th>data_status</th>\n",
       "    </tr>\n",
       "  </thead>\n",
       "  <tbody>\n",
       "    <tr>\n",
       "      <th>0</th>\n",
       "      <td>33609</td>\n",
       "      <td>Município</td>\n",
       "      <td>Vassouras</td>\n",
       "      <td>3306206</td>\n",
       "      <td>RJ</td>\n",
       "      <td>PVL02.002481/2019-96</td>\n",
       "      <td>Deferido</td>\n",
       "      <td>17944.102288/2019-17</td>\n",
       "      <td>2019-07-29T17:06:25Z</td>\n",
       "      <td>Operação contratual interna</td>\n",
       "      <td>Infraestrutura</td>\n",
       "      <td>Instituição Financeira Nacional</td>\n",
       "      <td>Caixa Econômica Federal</td>\n",
       "      <td>Real</td>\n",
       "      <td>4.050000e+07</td>\n",
       "      <td>0</td>\n",
       "      <td>1</td>\n",
       "      <td>31/07/2019</td>\n",
       "    </tr>\n",
       "    <tr>\n",
       "      <th>1</th>\n",
       "      <td>56075</td>\n",
       "      <td>Município</td>\n",
       "      <td>Resende</td>\n",
       "      <td>3304201</td>\n",
       "      <td>RJ</td>\n",
       "      <td>PVL02.003504/2022-85</td>\n",
       "      <td>Deferido (PVL-IF)</td>\n",
       "      <td>None</td>\n",
       "      <td>None</td>\n",
       "      <td>Operação contratual interna</td>\n",
       "      <td>Aquisição de máquinas, equipamentos e veículos</td>\n",
       "      <td>Instituição Financeira Nacional</td>\n",
       "      <td>Banco do Brasil S/A</td>\n",
       "      <td>Real</td>\n",
       "      <td>2.160000e+06</td>\n",
       "      <td>0</td>\n",
       "      <td>1</td>\n",
       "      <td>28/07/2022</td>\n",
       "    </tr>\n",
       "    <tr>\n",
       "      <th>2</th>\n",
       "      <td>38893</td>\n",
       "      <td>Município</td>\n",
       "      <td>Paty do Alferes</td>\n",
       "      <td>3303856</td>\n",
       "      <td>RJ</td>\n",
       "      <td>PVL02.007600/2019-05</td>\n",
       "      <td>Deferido (PVL-IF)</td>\n",
       "      <td>None</td>\n",
       "      <td>None</td>\n",
       "      <td>Operação contratual interna</td>\n",
       "      <td>Aquisição de máquinas, equipamentos e veículos</td>\n",
       "      <td>Instituição Financeira Nacional</td>\n",
       "      <td>Agência de Fomento do Estado do Rio de Janeiro</td>\n",
       "      <td>Real</td>\n",
       "      <td>3.512000e+06</td>\n",
       "      <td>0</td>\n",
       "      <td>1</td>\n",
       "      <td>30/10/2019</td>\n",
       "    </tr>\n",
       "    <tr>\n",
       "      <th>3</th>\n",
       "      <td>63612</td>\n",
       "      <td>Município</td>\n",
       "      <td>Resende</td>\n",
       "      <td>3304201</td>\n",
       "      <td>RJ</td>\n",
       "      <td>PVL02.008921/2022-14</td>\n",
       "      <td>Arquivado a pedido</td>\n",
       "      <td>17944.100828/2023-12</td>\n",
       "      <td>2023-08-24T17:59:04Z</td>\n",
       "      <td>Operação contratual interna (com garantia da U...</td>\n",
       "      <td>Infraestrutura</td>\n",
       "      <td>Instituição Financeira Nacional</td>\n",
       "      <td>Banco do Brasil S/A</td>\n",
       "      <td>Real</td>\n",
       "      <td>3.200000e+07</td>\n",
       "      <td>0</td>\n",
       "      <td>0</td>\n",
       "      <td>23/11/2023</td>\n",
       "    </tr>\n",
       "    <tr>\n",
       "      <th>4</th>\n",
       "      <td>68563</td>\n",
       "      <td>Município</td>\n",
       "      <td>Nova Iguaçu</td>\n",
       "      <td>3303500</td>\n",
       "      <td>RJ</td>\n",
       "      <td>PVL02.000551/2024-39</td>\n",
       "      <td>Em retificação pelo interessado</td>\n",
       "      <td>17944.002171/2024-00</td>\n",
       "      <td>2024-04-29T16:20:19Z</td>\n",
       "      <td>Operação contratual interna (com garantia da U...</td>\n",
       "      <td>Infraestrutura</td>\n",
       "      <td>Instituição Financeira Nacional</td>\n",
       "      <td>Caixa Econômica Federal</td>\n",
       "      <td>Real</td>\n",
       "      <td>1.600000e+08</td>\n",
       "      <td>0</td>\n",
       "      <td>0</td>\n",
       "      <td>14/05/2024</td>\n",
       "    </tr>\n",
       "    <tr>\n",
       "      <th>...</th>\n",
       "      <td>...</td>\n",
       "      <td>...</td>\n",
       "      <td>...</td>\n",
       "      <td>...</td>\n",
       "      <td>...</td>\n",
       "      <td>...</td>\n",
       "      <td>...</td>\n",
       "      <td>...</td>\n",
       "      <td>...</td>\n",
       "      <td>...</td>\n",
       "      <td>...</td>\n",
       "      <td>...</td>\n",
       "      <td>...</td>\n",
       "      <td>...</td>\n",
       "      <td>...</td>\n",
       "      <td>...</td>\n",
       "      <td>...</td>\n",
       "      <td>...</td>\n",
       "    </tr>\n",
       "    <tr>\n",
       "      <th>258</th>\n",
       "      <td>12602</td>\n",
       "      <td>Município</td>\n",
       "      <td>Vassouras</td>\n",
       "      <td>3306206</td>\n",
       "      <td>RJ</td>\n",
       "      <td>None</td>\n",
       "      <td>Arquivado</td>\n",
       "      <td>17944.001723/2008-34</td>\n",
       "      <td>2008-07-10T03:00:00Z</td>\n",
       "      <td>Operação contratual interna</td>\n",
       "      <td>Caminho da Escola</td>\n",
       "      <td>Instituição Financeira Nacional</td>\n",
       "      <td>Caixa Econômica Federal</td>\n",
       "      <td>Real</td>\n",
       "      <td>1.029900e+06</td>\n",
       "      <td>0</td>\n",
       "      <td>0</td>\n",
       "      <td>29/07/2008</td>\n",
       "    </tr>\n",
       "    <tr>\n",
       "      <th>259</th>\n",
       "      <td>10263</td>\n",
       "      <td>Município</td>\n",
       "      <td>Armação dos Búzios</td>\n",
       "      <td>3300233</td>\n",
       "      <td>RJ</td>\n",
       "      <td>None</td>\n",
       "      <td>Regularizado</td>\n",
       "      <td>17944.001157/2009-41</td>\n",
       "      <td>2009-11-11T02:00:00Z</td>\n",
       "      <td>Operação contratual interna</td>\n",
       "      <td>Regularização de Dívida - Outros</td>\n",
       "      <td>Outras Organizações</td>\n",
       "      <td>Pessoa Jurídica</td>\n",
       "      <td>Real</td>\n",
       "      <td>1.718322e+05</td>\n",
       "      <td>0</td>\n",
       "      <td>0</td>\n",
       "      <td>30/11/2009</td>\n",
       "    </tr>\n",
       "    <tr>\n",
       "      <th>260</th>\n",
       "      <td>8643</td>\n",
       "      <td>Município</td>\n",
       "      <td>Rio de Janeiro</td>\n",
       "      <td>3304557</td>\n",
       "      <td>RJ</td>\n",
       "      <td>None</td>\n",
       "      <td>Encaminhado à PGFN com manifestação técnica fa...</td>\n",
       "      <td>17944.000816/2009-22</td>\n",
       "      <td>2011-11-17T02:00:00Z</td>\n",
       "      <td>Operação contratual externa (com garantia da U...</td>\n",
       "      <td>Infraestrutura</td>\n",
       "      <td>Instituição Financeira Internacional</td>\n",
       "      <td>Banco Interamericano de Desenvolvimento</td>\n",
       "      <td>Dólar dos EUA</td>\n",
       "      <td>1.500000e+08</td>\n",
       "      <td>1</td>\n",
       "      <td>0</td>\n",
       "      <td>23/12/2011</td>\n",
       "    </tr>\n",
       "    <tr>\n",
       "      <th>261</th>\n",
       "      <td>12404</td>\n",
       "      <td>Município</td>\n",
       "      <td>Resende</td>\n",
       "      <td>3304201</td>\n",
       "      <td>RJ</td>\n",
       "      <td>None</td>\n",
       "      <td>Regularizado</td>\n",
       "      <td>17944.001679/2008-62</td>\n",
       "      <td>2013-07-12T03:00:00Z</td>\n",
       "      <td>Operação contratual interna</td>\n",
       "      <td>Regularização de Dívida - Energia Elétrica</td>\n",
       "      <td>Empresa Não Estatal</td>\n",
       "      <td>Ampla Energia e Serviços S/A</td>\n",
       "      <td>Real</td>\n",
       "      <td>4.397135e+06</td>\n",
       "      <td>1</td>\n",
       "      <td>0</td>\n",
       "      <td>26/07/2013</td>\n",
       "    </tr>\n",
       "    <tr>\n",
       "      <th>262</th>\n",
       "      <td>28822</td>\n",
       "      <td>Município</td>\n",
       "      <td>Resende</td>\n",
       "      <td>3304201</td>\n",
       "      <td>RJ</td>\n",
       "      <td>PVL02.001389/2018-28</td>\n",
       "      <td>Deferido</td>\n",
       "      <td>17944.105556/2018-71</td>\n",
       "      <td>2018-07-10T20:20:13Z</td>\n",
       "      <td>Operação contratual interna</td>\n",
       "      <td>Infraestrutura</td>\n",
       "      <td>Instituição Financeira Nacional</td>\n",
       "      <td>Banco do Brasil S/A</td>\n",
       "      <td>Real</td>\n",
       "      <td>7.000000e+06</td>\n",
       "      <td>0</td>\n",
       "      <td>1</td>\n",
       "      <td>12/07/2018</td>\n",
       "    </tr>\n",
       "  </tbody>\n",
       "</table>\n",
       "<p>263 rows × 18 columns</p>\n",
       "</div>"
      ],
      "text/plain": [
       "     id_pleito tipo_interessado         interessado  cod_ibge  uf  \\\n",
       "0        33609        Município           Vassouras   3306206  RJ   \n",
       "1        56075        Município             Resende   3304201  RJ   \n",
       "2        38893        Município     Paty do Alferes   3303856  RJ   \n",
       "3        63612        Município             Resende   3304201  RJ   \n",
       "4        68563        Município         Nova Iguaçu   3303500  RJ   \n",
       "..         ...              ...                 ...       ...  ..   \n",
       "258      12602        Município           Vassouras   3306206  RJ   \n",
       "259      10263        Município  Armação dos Búzios   3300233  RJ   \n",
       "260       8643        Município      Rio de Janeiro   3304557  RJ   \n",
       "261      12404        Município             Resende   3304201  RJ   \n",
       "262      28822        Município             Resende   3304201  RJ   \n",
       "\n",
       "                  num_pvl                                             status  \\\n",
       "0    PVL02.002481/2019-96                                           Deferido   \n",
       "1    PVL02.003504/2022-85                                  Deferido (PVL-IF)   \n",
       "2    PVL02.007600/2019-05                                  Deferido (PVL-IF)   \n",
       "3    PVL02.008921/2022-14                                 Arquivado a pedido   \n",
       "4    PVL02.000551/2024-39                    Em retificação pelo interessado   \n",
       "..                    ...                                                ...   \n",
       "258                  None                                          Arquivado   \n",
       "259                  None                                       Regularizado   \n",
       "260                  None  Encaminhado à PGFN com manifestação técnica fa...   \n",
       "261                  None                                       Regularizado   \n",
       "262  PVL02.001389/2018-28                                           Deferido   \n",
       "\n",
       "             num_processo        data_protocolo  \\\n",
       "0    17944.102288/2019-17  2019-07-29T17:06:25Z   \n",
       "1                    None                  None   \n",
       "2                    None                  None   \n",
       "3    17944.100828/2023-12  2023-08-24T17:59:04Z   \n",
       "4    17944.002171/2024-00  2024-04-29T16:20:19Z   \n",
       "..                    ...                   ...   \n",
       "258  17944.001723/2008-34  2008-07-10T03:00:00Z   \n",
       "259  17944.001157/2009-41  2009-11-11T02:00:00Z   \n",
       "260  17944.000816/2009-22  2011-11-17T02:00:00Z   \n",
       "261  17944.001679/2008-62  2013-07-12T03:00:00Z   \n",
       "262  17944.105556/2018-71  2018-07-10T20:20:13Z   \n",
       "\n",
       "                                         tipo_operacao  \\\n",
       "0                          Operação contratual interna   \n",
       "1                          Operação contratual interna   \n",
       "2                          Operação contratual interna   \n",
       "3    Operação contratual interna (com garantia da U...   \n",
       "4    Operação contratual interna (com garantia da U...   \n",
       "..                                                 ...   \n",
       "258                        Operação contratual interna   \n",
       "259                        Operação contratual interna   \n",
       "260  Operação contratual externa (com garantia da U...   \n",
       "261                        Operação contratual interna   \n",
       "262                        Operação contratual interna   \n",
       "\n",
       "                                         finalidade  \\\n",
       "0                                    Infraestrutura   \n",
       "1    Aquisição de máquinas, equipamentos e veículos   \n",
       "2    Aquisição de máquinas, equipamentos e veículos   \n",
       "3                                    Infraestrutura   \n",
       "4                                    Infraestrutura   \n",
       "..                                              ...   \n",
       "258                               Caminho da Escola   \n",
       "259                Regularização de Dívida - Outros   \n",
       "260                                  Infraestrutura   \n",
       "261      Regularização de Dívida - Energia Elétrica   \n",
       "262                                  Infraestrutura   \n",
       "\n",
       "                              tipo_credor  \\\n",
       "0         Instituição Financeira Nacional   \n",
       "1         Instituição Financeira Nacional   \n",
       "2         Instituição Financeira Nacional   \n",
       "3         Instituição Financeira Nacional   \n",
       "4         Instituição Financeira Nacional   \n",
       "..                                    ...   \n",
       "258       Instituição Financeira Nacional   \n",
       "259                   Outras Organizações   \n",
       "260  Instituição Financeira Internacional   \n",
       "261                   Empresa Não Estatal   \n",
       "262       Instituição Financeira Nacional   \n",
       "\n",
       "                                             credor          moeda  \\\n",
       "0                           Caixa Econômica Federal           Real   \n",
       "1                               Banco do Brasil S/A           Real   \n",
       "2    Agência de Fomento do Estado do Rio de Janeiro           Real   \n",
       "3                               Banco do Brasil S/A           Real   \n",
       "4                           Caixa Econômica Federal           Real   \n",
       "..                                              ...            ...   \n",
       "258                         Caixa Econômica Federal           Real   \n",
       "259                                 Pessoa Jurídica           Real   \n",
       "260         Banco Interamericano de Desenvolvimento  Dólar dos EUA   \n",
       "261                    Ampla Energia e Serviços S/A           Real   \n",
       "262                             Banco do Brasil S/A           Real   \n",
       "\n",
       "            valor  pvl_assoc_divida  pvl_contradado_credor data_status  \n",
       "0    4.050000e+07                 0                      1  31/07/2019  \n",
       "1    2.160000e+06                 0                      1  28/07/2022  \n",
       "2    3.512000e+06                 0                      1  30/10/2019  \n",
       "3    3.200000e+07                 0                      0  23/11/2023  \n",
       "4    1.600000e+08                 0                      0  14/05/2024  \n",
       "..            ...               ...                    ...         ...  \n",
       "258  1.029900e+06                 0                      0  29/07/2008  \n",
       "259  1.718322e+05                 0                      0  30/11/2009  \n",
       "260  1.500000e+08                 1                      0  23/12/2011  \n",
       "261  4.397135e+06                 1                      0  26/07/2013  \n",
       "262  7.000000e+06                 0                      1  12/07/2018  \n",
       "\n",
       "[263 rows x 18 columns]"
      ]
     },
     "execution_count": 3,
     "metadata": {},
     "output_type": "execute_result"
    }
   ],
   "source": [
    "data_json = r.json()\n",
    "df = pd.DataFrame(data_json['items'])\n",
    "df"
   ]
  },
  {
   "cell_type": "code",
   "execution_count": 4,
   "metadata": {},
   "outputs": [
    {
     "data": {
      "text/plain": [
       "Index(['id_pleito', 'tipo_interessado', 'interessado', 'cod_ibge', 'uf',\n",
       "       'num_pvl', 'status', 'num_processo', 'data_protocolo', 'tipo_operacao',\n",
       "       'finalidade', 'tipo_credor', 'credor', 'moeda', 'valor',\n",
       "       'pvl_assoc_divida', 'pvl_contradado_credor', 'data_status'],\n",
       "      dtype='object')"
      ]
     },
     "execution_count": 4,
     "metadata": {},
     "output_type": "execute_result"
    }
   ],
   "source": [
    "df.columns"
   ]
  },
  {
   "cell_type": "code",
   "execution_count": 5,
   "metadata": {},
   "outputs": [
    {
     "data": {
      "text/plain": [
       "status\n",
       "Deferido        106\n",
       "Arquivado        53\n",
       "Regularizado     26\n",
       "Name: count, dtype: int64"
      ]
     },
     "execution_count": 5,
     "metadata": {},
     "output_type": "execute_result"
    }
   ],
   "source": [
    "df['status'].value_counts().head(3)"
   ]
  },
  {
   "cell_type": "code",
   "execution_count": 6,
   "metadata": {},
   "outputs": [
    {
     "name": "stdout",
     "output_type": "stream",
     "text": [
      "<class 'pandas.core.frame.DataFrame'>\n",
      "RangeIndex: 263 entries, 0 to 262\n",
      "Data columns (total 18 columns):\n",
      " #   Column                 Non-Null Count  Dtype  \n",
      "---  ------                 --------------  -----  \n",
      " 0   id_pleito              263 non-null    int64  \n",
      " 1   tipo_interessado       263 non-null    object \n",
      " 2   interessado            263 non-null    object \n",
      " 3   cod_ibge               263 non-null    int64  \n",
      " 4   uf                     263 non-null    object \n",
      " 5   num_pvl                86 non-null     object \n",
      " 6   status                 263 non-null    object \n",
      " 7   num_processo           238 non-null    object \n",
      " 8   data_protocolo         238 non-null    object \n",
      " 9   tipo_operacao          263 non-null    object \n",
      " 10  finalidade             263 non-null    object \n",
      " 11  tipo_credor            263 non-null    object \n",
      " 12  credor                 263 non-null    object \n",
      " 13  moeda                  263 non-null    object \n",
      " 14  valor                  263 non-null    float64\n",
      " 15  pvl_assoc_divida       263 non-null    int64  \n",
      " 16  pvl_contradado_credor  263 non-null    int64  \n",
      " 17  data_status            263 non-null    object \n",
      "dtypes: float64(1), int64(4), object(13)\n",
      "memory usage: 37.1+ KB\n"
     ]
    }
   ],
   "source": [
    "df.info()"
   ]
  },
  {
   "cell_type": "code",
   "execution_count": 8,
   "metadata": {},
   "outputs": [
    {
     "data": {
      "text/plain": [
       "0    31/07/2019\n",
       "1    28/07/2022\n",
       "2    30/10/2019\n",
       "3    23/11/2023\n",
       "4    14/05/2024\n",
       "Name: data_status, dtype: object"
      ]
     },
     "execution_count": 8,
     "metadata": {},
     "output_type": "execute_result"
    }
   ],
   "source": [
    "df['data_status'].head()"
   ]
  },
  {
   "cell_type": "code",
   "execution_count": 9,
   "metadata": {},
   "outputs": [],
   "source": [
    "df['ano'] = df['data_status'].str.extract('(\\d{4})')"
   ]
  },
  {
   "cell_type": "code",
   "execution_count": 10,
   "metadata": {},
   "outputs": [
    {
     "data": {
      "text/plain": [
       "0    2019\n",
       "1    2022\n",
       "2    2019\n",
       "3    2023\n",
       "4    2024\n",
       "Name: ano, dtype: object"
      ]
     },
     "execution_count": 10,
     "metadata": {},
     "output_type": "execute_result"
    }
   ],
   "source": [
    "df['ano'].head()"
   ]
  },
  {
   "cell_type": "markdown",
   "metadata": {},
   "source": [
    "####  2) Melhorando a interação com o API\n",
    "Observe dois URLs de consultas diferentes, por exemplo o URL utilizado em aula, e o URL feito no exercício anterior. Compare-os e observe as diferenças.\n",
    "\n",
    "1. Faça uma função em Python que recebe como argumento o UF da consulta e o tipo de interessado (```'Estado'```ou ```Município```), e que devolve os dados da consulta no formato *DataFrame*.\n",
    "2. Quantas solicitações para o Estado podem ser consultadas para Minas Gerais com *status* em 'Arquivado por decurso de prazo' estão registradas?\n",
    "3. Qual é o município da Bahia com mais solicitações deferidas?\n",
    "4. Salve um arquivo .csv com os dados de solicitações da Bahia, com interessado = 'Estado'"
   ]
  },
  {
   "cell_type": "code",
   "execution_count": 23,
   "metadata": {},
   "outputs": [],
   "source": [
    "def consultar_dados(uf=None, tipo_interessado=None):\n",
    "    # Construindo a URL com base nos argumentos fornecidos\n",
    "    url = 'https://apidatalake.tesouro.gov.br/ords/sadipem/tt/pvl'\n",
    "    params = {}\n",
    "    \n",
    "    # Adicionando filtros de UF e tipo de interessado, se fornecidos\n",
    "    if uf:\n",
    "        params['uf'] = uf\n",
    "    if tipo_interessado:\n",
    "        params['tipo_interessado'] = tipo_interessado\n",
    "    \n",
    "    r = requests.get(url, params=params)\n",
    "    \n",
    "    # Verificando se a requisição foi bem-sucedida\n",
    "    if r.status_code == 200:\n",
    "        data_json = r.json()\n",
    "        df = pd.DataFrame(data_json['items'])\n",
    "        return df\n",
    "    else:\n",
    "        print(f\"Erro ao fazer a requisição. Código de status: {r.status_code}\")\n",
    "        return None"
   ]
  },
  {
   "cell_type": "code",
   "execution_count": 11,
   "metadata": {},
   "outputs": [],
   "source": [
    "#def consulta_dados(uf, tipo_interessado):\n",
    "   # dados_filtrados = df[(df['uf'] == uf) & (df['tipo_interessado'] == tipo_interessado)]\n",
    "    #return dados_filtrados7"
   ]
  },
  {
   "cell_type": "code",
   "execution_count": 25,
   "metadata": {},
   "outputs": [
    {
     "data": {
      "text/html": [
       "<div>\n",
       "<style scoped>\n",
       "    .dataframe tbody tr th:only-of-type {\n",
       "        vertical-align: middle;\n",
       "    }\n",
       "\n",
       "    .dataframe tbody tr th {\n",
       "        vertical-align: top;\n",
       "    }\n",
       "\n",
       "    .dataframe thead th {\n",
       "        text-align: right;\n",
       "    }\n",
       "</style>\n",
       "<table border=\"1\" class=\"dataframe\">\n",
       "  <thead>\n",
       "    <tr style=\"text-align: right;\">\n",
       "      <th></th>\n",
       "      <th>id_pleito</th>\n",
       "      <th>tipo_interessado</th>\n",
       "      <th>interessado</th>\n",
       "      <th>cod_ibge</th>\n",
       "      <th>uf</th>\n",
       "      <th>num_pvl</th>\n",
       "      <th>status</th>\n",
       "      <th>num_processo</th>\n",
       "      <th>data_protocolo</th>\n",
       "      <th>tipo_operacao</th>\n",
       "      <th>finalidade</th>\n",
       "      <th>tipo_credor</th>\n",
       "      <th>credor</th>\n",
       "      <th>moeda</th>\n",
       "      <th>valor</th>\n",
       "      <th>pvl_assoc_divida</th>\n",
       "      <th>pvl_contradado_credor</th>\n",
       "      <th>data_status</th>\n",
       "      <th>ano</th>\n",
       "    </tr>\n",
       "  </thead>\n",
       "  <tbody>\n",
       "  </tbody>\n",
       "</table>\n",
       "</div>"
      ],
      "text/plain": [
       "Empty DataFrame\n",
       "Columns: [id_pleito, tipo_interessado, interessado, cod_ibge, uf, num_pvl, status, num_processo, data_protocolo, tipo_operacao, finalidade, tipo_credor, credor, moeda, valor, pvl_assoc_divida, pvl_contradado_credor, data_status, ano]\n",
       "Index: []"
      ]
     },
     "execution_count": 25,
     "metadata": {},
     "output_type": "execute_result"
    }
   ],
   "source": [
    "uf_consulta = 'MG'\n",
    "tipo_interessado_consulta = 'Estado'\n",
    "resultado_consulta = consulta_dados(uf_consulta, tipo_interessado_consulta)\n",
    "resultado_consulta"
   ]
  },
  {
   "cell_type": "code",
   "execution_count": 26,
   "metadata": {},
   "outputs": [
    {
     "data": {
      "text/plain": [
       "Series([], Name: count, dtype: int64)"
      ]
     },
     "execution_count": 26,
     "metadata": {},
     "output_type": "execute_result"
    }
   ],
   "source": [
    "resultado_consulta['status'].value_counts()"
   ]
  },
  {
   "cell_type": "code",
   "execution_count": 27,
   "metadata": {},
   "outputs": [
    {
     "data": {
      "text/plain": [
       "Series([], Name: count, dtype: int64)"
      ]
     },
     "execution_count": 27,
     "metadata": {},
     "output_type": "execute_result"
    }
   ],
   "source": [
    "status_MG = resultado_consulta['status'] == 'Arquivado por decurso de prazo'\n",
    "status_MG.value_counts()"
   ]
  },
  {
   "cell_type": "code",
   "execution_count": 28,
   "metadata": {},
   "outputs": [],
   "source": [
    "uf_consulta = 'BA'\n",
    "tipo_interessado_consulta = 'Município'\n",
    "resultado_consulta = consulta_dados(uf_consulta, tipo_interessado_consulta)"
   ]
  },
  {
   "cell_type": "code",
   "execution_count": 29,
   "metadata": {},
   "outputs": [
    {
     "data": {
      "text/plain": [
       "Series([], Name: count, dtype: int64)"
      ]
     },
     "execution_count": 29,
     "metadata": {},
     "output_type": "execute_result"
    }
   ],
   "source": [
    "resultado_consulta['status'].value_counts()"
   ]
  },
  {
   "cell_type": "code",
   "execution_count": 30,
   "metadata": {},
   "outputs": [],
   "source": [
    "deferido_data = resultado_consulta[resultado_consulta['status'] == 'Deferido']"
   ]
  },
  {
   "cell_type": "code",
   "execution_count": 31,
   "metadata": {},
   "outputs": [
    {
     "data": {
      "text/html": [
       "<div>\n",
       "<style scoped>\n",
       "    .dataframe tbody tr th:only-of-type {\n",
       "        vertical-align: middle;\n",
       "    }\n",
       "\n",
       "    .dataframe tbody tr th {\n",
       "        vertical-align: top;\n",
       "    }\n",
       "\n",
       "    .dataframe thead th {\n",
       "        text-align: right;\n",
       "    }\n",
       "</style>\n",
       "<table border=\"1\" class=\"dataframe\">\n",
       "  <thead>\n",
       "    <tr style=\"text-align: right;\">\n",
       "      <th></th>\n",
       "      <th>id_pleito</th>\n",
       "      <th>tipo_interessado</th>\n",
       "      <th>interessado</th>\n",
       "      <th>cod_ibge</th>\n",
       "      <th>uf</th>\n",
       "      <th>num_pvl</th>\n",
       "      <th>status</th>\n",
       "      <th>num_processo</th>\n",
       "      <th>data_protocolo</th>\n",
       "      <th>tipo_operacao</th>\n",
       "      <th>finalidade</th>\n",
       "      <th>tipo_credor</th>\n",
       "      <th>credor</th>\n",
       "      <th>moeda</th>\n",
       "      <th>valor</th>\n",
       "      <th>pvl_assoc_divida</th>\n",
       "      <th>pvl_contradado_credor</th>\n",
       "      <th>data_status</th>\n",
       "      <th>ano</th>\n",
       "    </tr>\n",
       "  </thead>\n",
       "  <tbody>\n",
       "  </tbody>\n",
       "</table>\n",
       "</div>"
      ],
      "text/plain": [
       "Empty DataFrame\n",
       "Columns: [id_pleito, tipo_interessado, interessado, cod_ibge, uf, num_pvl, status, num_processo, data_protocolo, tipo_operacao, finalidade, tipo_credor, credor, moeda, valor, pvl_assoc_divida, pvl_contradado_credor, data_status, ano]\n",
       "Index: []"
      ]
     },
     "execution_count": 31,
     "metadata": {},
     "output_type": "execute_result"
    }
   ],
   "source": [
    "deferido_data"
   ]
  },
  {
   "cell_type": "code",
   "execution_count": 19,
   "metadata": {},
   "outputs": [
    {
     "data": {
      "text/plain": [
       "Series([], Name: count, dtype: int64)"
      ]
     },
     "execution_count": 19,
     "metadata": {},
     "output_type": "execute_result"
    }
   ],
   "source": [
    "contagem_deferido_por_municipio = deferido_data['interessado'].value_counts()\n",
    "contagem_deferido_por_municipio.head()"
   ]
  },
  {
   "cell_type": "code",
   "execution_count": 21,
   "metadata": {},
   "outputs": [],
   "source": [
    "uf_consulta = 'BA'\n",
    "tipo_interessado_consulta = 'Estado'\n",
    "resultado_consulta = consulta_dados(uf_consulta, tipo_interessado_consulta)\n",
    "resultado_consulta.to_csv('Solicitações_Bahia.csv')"
   ]
  },
  {
   "cell_type": "code",
   "execution_count": null,
   "metadata": {},
   "outputs": [],
   "source": []
  }
 ],
 "metadata": {
  "kernelspec": {
   "display_name": "Python 3 (ipykernel)",
   "language": "python",
   "name": "python3"
  },
  "language_info": {
   "codemirror_mode": {
    "name": "ipython",
    "version": 3
   },
   "file_extension": ".py",
   "mimetype": "text/x-python",
   "name": "python",
   "nbconvert_exporter": "python",
   "pygments_lexer": "ipython3",
   "version": "3.11.7"
  }
 },
 "nbformat": 4,
 "nbformat_minor": 4
}
